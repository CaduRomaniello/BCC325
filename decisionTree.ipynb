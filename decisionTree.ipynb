{
  "nbformat": 4,
  "nbformat_minor": 0,
  "metadata": {
    "colab": {
      "provenance": []
    },
    "kernelspec": {
      "name": "python3",
      "display_name": "Python 3"
    },
    "language_info": {
      "name": "python"
    }
  },
  "cells": [
    {
      "cell_type": "code",
      "execution_count": 6,
      "metadata": {
        "id": "wWPjfobQB8gZ"
      },
      "outputs": [],
      "source": [
        "import pandas as pd\n",
        "from sklearn.preprocessing import LabelEncoder\n",
        "from sklearn import tree"
      ]
    },
    {
      "cell_type": "code",
      "source": [
        "df = pd.read_csv(\"/content/drive/MyDrive/IA/decisionTree.csv\")"
      ],
      "metadata": {
        "id": "Qx6W1jyGCUKi"
      },
      "execution_count": 7,
      "outputs": []
    },
    {
      "cell_type": "code",
      "source": [
        "input = df.drop('salary', axis='columns')\n",
        "target = df['salary']"
      ],
      "metadata": {
        "id": "O6ZsBj_cDGvZ"
      },
      "execution_count": 10,
      "outputs": []
    },
    {
      "cell_type": "code",
      "source": [
        "le_company = LabelEncoder()\n",
        "le_job = LabelEncoder()\n",
        "le_degree = LabelEncoder()"
      ],
      "metadata": {
        "id": "9H2xrKQ2DbAm"
      },
      "execution_count": 12,
      "outputs": []
    },
    {
      "cell_type": "code",
      "source": [
        "input['le_company'] = le_company.fit_transform(input['company'])\n",
        "input['job_n'] = le_job.fit_transform(input['job'])\n",
        "input['degree_n'] = le_degree.fit_transform(input['degree'])"
      ],
      "metadata": {
        "id": "sK4YNGd8D3Oq"
      },
      "execution_count": 13,
      "outputs": []
    },
    {
      "cell_type": "code",
      "source": [
        "inputs_n = input.drop(['company','job','degree'], axis='columns')"
      ],
      "metadata": {
        "id": "dTJhbJ_1FUkk"
      },
      "execution_count": 14,
      "outputs": []
    },
    {
      "cell_type": "code",
      "source": [
        "model = tree.DecisionTreeClassifier()"
      ],
      "metadata": {
        "id": "MyrYY2SnFkuS"
      },
      "execution_count": 16,
      "outputs": []
    },
    {
      "cell_type": "code",
      "source": [
        "model.fit(inputs_n, target)"
      ],
      "metadata": {
        "id": "6xETOB0pFuN0",
        "colab": {
          "base_uri": "https://localhost:8080/"
        },
        "outputId": "74199d86-ae0b-4910-c21e-efb65549529f"
      },
      "execution_count": 17,
      "outputs": [
        {
          "output_type": "execute_result",
          "data": {
            "text/plain": [
              "DecisionTreeClassifier()"
            ]
          },
          "metadata": {},
          "execution_count": 17
        }
      ]
    },
    {
      "cell_type": "code",
      "source": [
        "model.predict(pd.DataFrame([[2, 2, 1]], columns=[\"le_company\", \"job_n\", \"degree_n\"]))"
      ],
      "metadata": {
        "id": "K1c3CeZjHEwd",
        "colab": {
          "base_uri": "https://localhost:8080/"
        },
        "outputId": "c349ca6c-5b24-4b37-b17f-a18b1796b257"
      },
      "execution_count": 22,
      "outputs": [
        {
          "output_type": "execute_result",
          "data": {
            "text/plain": [
              "array([0])"
            ]
          },
          "metadata": {},
          "execution_count": 22
        }
      ]
    },
    {
      "cell_type": "code",
      "source": [
        "model.predict(pd.DataFrame([[1, 1, 1]], columns=[\"le_company\", \"job_n\", \"degree_n\"]))"
      ],
      "metadata": {
        "id": "togaUjQGHL1K",
        "colab": {
          "base_uri": "https://localhost:8080/"
        },
        "outputId": "d97d2173-0cbb-4f7b-e65b-0307e02a4567"
      },
      "execution_count": 23,
      "outputs": [
        {
          "output_type": "execute_result",
          "data": {
            "text/plain": [
              "array([1])"
            ]
          },
          "metadata": {},
          "execution_count": 23
        }
      ]
    }
  ]
}